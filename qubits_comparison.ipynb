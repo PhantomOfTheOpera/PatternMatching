{
 "cells": [
  {
   "cell_type": "code",
   "execution_count": 1,
   "id": "a6199427-1077-4287-8278-14b1ecf0467b",
   "metadata": {},
   "outputs": [],
   "source": [
    "import pennylane as qml\n",
    "\n",
    "from pennylane import numpy as np\n",
    "\n",
    "import pandas as pd\n",
    "\n",
    "import matplotlib.pyplot as plt\n",
    "\n",
    "plt.style.use(\"dark_background\")"
   ]
  },
  {
   "cell_type": "code",
   "execution_count": 2,
   "id": "70d03f9f-ff42-4495-a08a-e7b7b7bead4c",
   "metadata": {},
   "outputs": [],
   "source": [
    "def draw(circuit, *args, **kwargs):\n",
    "\n",
    "    qml.draw_mpl(circuit, style=\"solarized_dark\", decimals=2)(*args, **kwargs)\n",
    "    plt.gcf().set_dpi(50)"
   ]
  },
  {
   "cell_type": "markdown",
   "id": "8a06287f-93c6-4c8d-b71d-8dd38a1f9417",
   "metadata": {},
   "source": [
    "### Data"
   ]
  },
  {
   "cell_type": "code",
   "execution_count": 3,
   "id": "cdcd2c6a-6363-4960-8e27-63afd35991fb",
   "metadata": {},
   "outputs": [],
   "source": [
    "def create_dataset(samples_count=100):\n",
    "\n",
    "    samples_per_class = samples_count // 2\n",
    "\n",
    "    class_0_xs = np.random.normal(loc=-1, scale=1, size=samples_per_class)\n",
    "    class_0_ys = np.random.normal(loc=1, scale=1, size=samples_per_class)\n",
    "\n",
    "    class_1_xs = np.random.normal(loc=1, scale=1, size=samples_per_class)\n",
    "    class_1_ys = np.random.normal(loc=-1, scale=1, size=samples_per_class)\n",
    "\n",
    "    plt.scatter(class_0_xs, class_0_ys, label=\"Class 0\")\n",
    "    plt.scatter(class_1_xs, class_1_ys, label=\"Class 1\")\n",
    "    plt.legend()\n",
    "    plt.show()\n",
    "\n",
    "    # Coordinates\n",
    "\n",
    "    class_0_coordinates = np.stack([class_0_xs, class_0_ys]).T\n",
    "    class_1_coordinates = np.stack([class_1_xs, class_1_ys]).T\n",
    "\n",
    "    all_coordinates = np.concatenate([class_0_coordinates, \n",
    "                                      class_1_coordinates])\n",
    "\n",
    "    # Labels\n",
    "\n",
    "    class_0_labels = -np.ones(samples_per_class)\n",
    "    class_1_labels = np.ones(samples_per_class)\n",
    "\n",
    "    all_labels = np.concatenate([class_0_labels, class_1_labels])\n",
    "\n",
    "    # Data\n",
    "\n",
    "    data = list(zip(all_coordinates, all_labels))\n",
    "\n",
    "    data_df = pd.DataFrame(data, columns=[\"Coordinates\", \"Label\"])\n",
    "\n",
    "    display(data_df.head(3))\n",
    "    \n",
    "    return data"
   ]
  },
  {
   "cell_type": "code",
   "execution_count": 5,
   "id": "1e1626c7-5646-48c1-b127-14f27838698c",
   "metadata": {},
   "outputs": [
    {
     "data": {
      "image/png": "[encoded data removed]",
      "text/plain": [
       "<Figure size 432x288 with 1 Axes>"
      ]
     },
     "metadata": {
      "needs_background": "dark"
     },
     "output_type": "display_data"
    },
    {
     "data": {
      "text/html": [
       "<div>\n",
       "<style scoped>\n",
       "    .dataframe tbody tr th:only-of-type {\n",
       "        vertical-align: middle;\n",
       "    }\n",
       "\n",
       "    .dataframe tbody tr th {\n",
       "        vertical-align: top;\n",
       "    }\n",
       "\n",
       "    .dataframe thead th {\n",
       "        text-align: right;\n",
       "    }\n",
       "</style>\n",
       "<table border=\"1\" class=\"dataframe\">\n",
       "  <thead>\n",
       "    <tr style=\"text-align: right;\">\n",
       "      <th></th>\n",
       "      <th>Coordinates</th>\n",
       "      <th>Label</th>\n",
       "    </tr>\n",
       "  </thead>\n",
       "  <tbody>\n",
       "    <tr>\n",
       "      <th>0</th>\n",
       "      <td>[-1.1020716255592697, 0.7267514137777839]</td>\n",
       "      <td>-1.0</td>\n",
       "    </tr>\n",
       "    <tr>\n",
       "      <th>1</th>\n",
       "      <td>[0.5918090532798954, 1.5836626090066437]</td>\n",
       "      <td>-1.0</td>\n",
       "    </tr>\n",
       "    <tr>\n",
       "      <th>2</th>\n",
       "      <td>[-1.4357212998932756, 0.5288506608718082]</td>\n",
       "      <td>-1.0</td>\n",
       "    </tr>\n",
       "  </tbody>\n",
       "</table>\n",
       "</div>"
      ],
      "text/plain": [
       "                                 Coordinates Label\n",
       "0  [-1.1020716255592697, 0.7267514137777839]  -1.0\n",
       "1   [0.5918090532798954, 1.5836626090066437]  -1.0\n",
       "2  [-1.4357212998932756, 0.5288506608718082]  -1.0"
      ]
     },
     "metadata": {},
     "output_type": "display_data"
    },
    {
     "data": {
      "image/png": "[encoded data removed]",
      "text/plain": [
       "<Figure size 432x288 with 1 Axes>"
      ]
     },
     "metadata": {
      "needs_background": "dark"
     },
     "output_type": "display_data"
    },
    {
     "data": {
      "text/html": [
       "<div>\n",
       "<style scoped>\n",
       "    .dataframe tbody tr th:only-of-type {\n",
       "        vertical-align: middle;\n",
       "    }\n",
       "\n",
       "    .dataframe tbody tr th {\n",
       "        vertical-align: top;\n",
       "    }\n",
       "\n",
       "    .dataframe thead th {\n",
       "        text-align: right;\n",
       "    }\n",
       "</style>\n",
       "<table border=\"1\" class=\"dataframe\">\n",
       "  <thead>\n",
       "    <tr style=\"text-align: right;\">\n",
       "      <th></th>\n",
       "      <th>Coordinates</th>\n",
       "      <th>Label</th>\n",
       "    </tr>\n",
       "  </thead>\n",
       "  <tbody>\n",
       "    <tr>\n",
       "      <th>0</th>\n",
       "      <td>[-2.7548629228298367, 1.0804607843158143]</td>\n",
       "      <td>-1.0</td>\n",
       "    </tr>\n",
       "    <tr>\n",
       "      <th>1</th>\n",
       "      <td>[-0.912402355194196, 0.772164779643375]</td>\n",
       "      <td>-1.0</td>\n",
       "    </tr>\n",
       "    <tr>\n",
       "      <th>2</th>\n",
       "      <td>[-1.798594018852909, 1.596504276693325]</td>\n",
       "      <td>-1.0</td>\n",
       "    </tr>\n",
       "  </tbody>\n",
       "</table>\n",
       "</div>"
      ],
      "text/plain": [
       "                                 Coordinates Label\n",
       "0  [-2.7548629228298367, 1.0804607843158143]  -1.0\n",
       "1    [-0.912402355194196, 0.772164779643375]  -1.0\n",
       "2    [-1.798594018852909, 1.596504276693325]  -1.0"
      ]
     },
     "metadata": {},
     "output_type": "display_data"
    }
   ],
   "source": [
    "dataset_good = create_dataset()\n",
    "dataset_bad = create_dataset()"
   ]
  },
  {
   "cell_type": "code",
   "execution_count": 6,
   "id": "b67c7638-d447-42f6-aab3-88d9068b89a3",
   "metadata": {},
   "outputs": [],
   "source": [
    "QUBITS_COUNT = 2\n",
    "LAYERS_COUNT = 1\n",
    "\n",
    "qubits = list(range(QUBITS_COUNT))\n",
    "\n",
    "qml_device = qml.device('default.qubit', wires=qubits)\n",
    "\n",
    "\n",
    "# Model\n",
    "\n",
    "@qml.qnode(qml_device)\n",
    "def quantum_model(angles_1, angles_2, weights):\n",
    "    \n",
    "    qml.templates.AngleEmbedding(angles_1, wires=qubits)\n",
    "    \n",
    "    qml.Barrier(only_visual=True)\n",
    "    \n",
    "    qml.templates.BasicEntanglerLayers(weights, wires=qubits)\n",
    "    \n",
    "    qml.Barrier(only_visual=True)\n",
    "        \n",
    "    # qml.templates.AngleEmbedding(angles_2, wires=qubits, do_queue=False).decomposition()\n",
    "    \n",
    "    qml.adjoint(qml.templates.AngleEmbedding(angles_1, wires=qubits))\n",
    "    \n",
    "    qml.Barrier(only_visual=True)\n",
    "    \n",
    "    return [qml.expval(qml.PauliZ(wires=qubit)) for qubit in qubits]"
   ]
  },
  {
   "cell_type": "code",
   "execution_count": 7,
   "id": "4d14a8a2-3cc4-45f3-ae74-a224d2129c38",
   "metadata": {},
   "outputs": [],
   "source": [
    "angles_1 = np.array(dataset_good[0][0], requires_grad=False)\n",
    "angles_2 = np.array(dataset_bad[0][0], requires_grad=False)\n",
    "\n",
    "weights = np.random.random(size=(LAYERS_COUNT, QUBITS_COUNT))"
   ]
  },
  {
   "cell_type": "code",
   "execution_count": 8,
   "id": "1f8e26c2-63cf-4f3f-98a2-9fee49f15f1d",
   "metadata": {},
   "outputs": [
    {
     "data": {
      "text/plain": [
       "tensor([-2.75486292,  1.08046078], requires_grad=False)"
      ]
     },
     "execution_count": 8,
     "metadata": {},
     "output_type": "execute_result"
    }
   ],
   "source": [
    "angles_2"
   ]
  },
  {
   "cell_type": "code",
   "execution_count": 9,
   "id": "d0d6f813-c80d-4b8e-9a61-c2067016ef4b",
   "metadata": {},
   "outputs": [
    {
     "data": {
      "image/png": "[encoded data removed]",
      "text/plain": [
       "<Figure size 450x150 with 1 Axes>"
      ]
     },
     "metadata": {},
     "output_type": "display_data"
    }
   ],
   "source": [
    "draw(quantum_model, angles_1, angles_2, weights)"
   ]
  },
  {
   "cell_type": "code",
   "execution_count": 43,
   "id": "37c8e0f0-4831-4ae1-b387-a587eb227572",
   "metadata": {},
   "outputs": [],
   "source": [
    "# Quantum Model\n",
    "\n",
    "@qml.qnode(qml_device)\n",
    "def quantum_model(angles_1, angles_2, weights):\n",
    "    \n",
    "    # print(\"angles_1:\", angles_1)\n",
    "    # print(\"angles_2:\", angles_2)\n",
    "    # print(\"weights:\", weights)\n",
    "    \n",
    "    qml.templates.AngleEmbedding(angles_1, wires=qubits)\n",
    "    \n",
    "    qml.Barrier(only_visual=True)\n",
    "    \n",
    "    qml.templates.BasicEntanglerLayers(weights, wires=qubits)\n",
    "    \n",
    "    qml.Barrier(only_visual=True)\n",
    "        \n",
    "    # qml.templates.AngleEmbedding(angles_2, wires=qubits, do_queue=False).decomposition()\n",
    "    \n",
    "    qml.adjoint(qml.templates.AngleEmbedding(angles_1, wires=qubits))\n",
    "    \n",
    "    qml.Barrier(only_visual=True)\n",
    "    \n",
    "    result = [qml.expval(qml.PauliZ(wires=qubit)) for qubit in qubits]\n",
    "    # result = qml.expval(qml.PauliZ(wires=0))\n",
    "    \n",
    "    # print(\"result:\", result)\n",
    "    \n",
    "    return result\n",
    "\n",
    "\n",
    "# Loss\n",
    "\n",
    "def loss(label_predicted, label_real):\n",
    "    \n",
    "    return (label_predicted - label_real) ** 2\n",
    "\n",
    "\n",
    "# Average Loss\n",
    "\n",
    "def average_loss_with_bias(weights, dataset_good, dataset_bad):\n",
    "    \n",
    "    total_loss = 0\n",
    "    \n",
    "    for datapoint_good, datapoint_bad in zip(dataset_good, dataset_bad):\n",
    "        \n",
    "        coodinates_good, label_good = datapoint_good\n",
    "        coodinates_bad, label_bad = datapoint_bad\n",
    "        \n",
    "        predictions = quantum_model(coodinates_good, coodinates_bad, weights)\n",
    "        \n",
    "        prediction = np.sum(predictions)\n",
    "        \n",
    "        # print(\"predictions:\", predictions)\n",
    "        # print(\"prediction:\", prediction)\n",
    "        \n",
    "        label = label_good = label_bad\n",
    "        \n",
    "        total_loss += loss(prediction, label)\n",
    "        \n",
    "    average_loss = total_loss / len(dataset_good)\n",
    "        \n",
    "    return average_loss\n",
    "\n",
    "\n",
    "# Gradient functions\n",
    "\n",
    "average_loss_gradient_weights = qml.grad(average_loss_with_bias, argnum=0)\n",
    "\n",
    "\n",
    "# Training\n",
    "\n",
    "# weights = np.random.random(size=(3, 2)) * 3\n",
    "\n",
    "weights = np.random.random(size=(LAYERS_COUNT, QUBITS_COUNT))\n",
    "\n",
    "optimizer = qml.GradientDescentOptimizer(stepsize=0.05)"
   ]
  },
  {
   "cell_type": "code",
   "execution_count": 44,
   "id": "a6470d1e-9fb1-4438-aa55-f145530b008b",
   "metadata": {},
   "outputs": [
    {
     "data": {
      "text/plain": [
       "tensor([[0.67717702, 0.09952007]], requires_grad=True)"
      ]
     },
     "execution_count": 44,
     "metadata": {},
     "output_type": "execute_result"
    }
   ],
   "source": [
    "weights"
   ]
  },
  {
   "cell_type": "code",
   "execution_count": 45,
   "id": "1b496ed7-b2e8-4a65-95f5-fb6abb81c8ea",
   "metadata": {
    "tags": []
   },
   "outputs": [
    {
     "name": "stdout",
     "output_type": "stream",
     "text": [
      "step_result: (tensor([[0.65715294, 0.10934801]], requires_grad=True), tensor(2.7151219, requires_grad=True))\n",
      "current_loss: 2.7151219031140754\n",
      "2.7151219031140754\n",
      "step_result: (tensor([[0.63661148, 0.12008287]], requires_grad=True), tensor(2.70497852, requires_grad=True))\n",
      "current_loss: 2.704978522370248\n",
      "2.704978522370248\n",
      "step_result: (tensor([[0.61552245, 0.13179713]], requires_grad=True), tensor(2.69401749, requires_grad=True))\n",
      "current_loss: 2.6940174904411482\n",
      "2.6940174904411482\n",
      "step_result: (tensor([[0.59385454, 0.14456675]], requires_grad=True), tensor(2.68213266, requires_grad=True))\n",
      "current_loss: 2.6821326573070996\n",
      "2.6821326573070996\n",
      "step_result: (tensor([[0.57157558, 0.15847083]], requires_grad=True), tensor(2.66920438, requires_grad=True))\n",
      "current_loss: 2.669204376056192\n",
      "2.669204376056192\n"
     ]
    }
   ],
   "source": [
    "def optimization_step_function(weights):\n",
    "    \n",
    "    current_loss = average_loss_with_bias(weights, dataset_good, dataset_bad)\n",
    "    \n",
    "    return current_loss\n",
    "    \n",
    "\n",
    "losses = []\n",
    "# selected_weights = []\n",
    "    \n",
    "for step in range(5):\n",
    "    \n",
    "    step_result = optimizer.step_and_cost(optimization_step_function, weights)\n",
    "    \n",
    "    print(\"step_result:\", step_result)\n",
    "    \n",
    "    (weights, current_loss) = step_result\n",
    "    \n",
    "    losses.append(current_loss)\n",
    "    # selected_weights.append((weights[0, 0],\n",
    "    #                          weights[1, 0]))\n",
    "    \n",
    "    print(\"current_loss:\", current_loss)\n",
    "    \n",
    "    print(current_loss)"
   ]
  },
  {
   "cell_type": "code",
   "execution_count": null,
   "id": "f4a10f03-f120-430b-a90c-85605deaf67a",
   "metadata": {},
   "outputs": [],
   "source": []
  }
 ],
 "metadata": {
  "kernelspec": {
   "display_name": "Python 3 (ipykernel)",
   "language": "python",
   "name": "python3"
  },
  "language_info": {
   "codemirror_mode": {
    "name": "ipython",
    "version": 3
   },
   "file_extension": ".py",
   "mimetype": "text/x-python",
   "name": "python",
   "nbconvert_exporter": "python",
   "pygments_lexer": "ipython3",
   "version": "3.8.10"
  }
 },
 "nbformat": 4,
 "nbformat_minor": 5
}
